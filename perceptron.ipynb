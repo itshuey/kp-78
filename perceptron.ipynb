{
 "cells": [
  {
   "cell_type": "code",
   "execution_count": 155,
   "metadata": {},
   "outputs": [],
   "source": [
    "import numpy as np\n",
    "import matplotlib.pyplot as plt"
   ]
  },
  {
   "cell_type": "code",
   "execution_count": 156,
   "metadata": {},
   "outputs": [],
   "source": [
    "class MultiClassKernelPerceptron():\n",
    "    \"\"\"\n",
    "    A multiclass implementation of the kernel perceptron\n",
    "    Designed for the MNIST dataset to classify digits 0-9\n",
    "    \"\"\"\n",
    "        \n",
    "    def __init__(self, kernel, num_digits):\n",
    "        \"\"\"\n",
    "        Instantiates the perceptron instance\n",
    "\n",
    "        Args:\n",
    "            kernel: kernel function to use\n",
    "            num_diits: number of digits to classify,\n",
    "                assumes digits range from 0...num_digits\n",
    "        \"\"\"\n",
    "        self.kernel = kernel\n",
    "        self.num_classes = num_digits\n",
    "\n",
    "    def train(self, X, Y):   \n",
    "        \"\"\"\n",
    "        Trains the perceptron\n",
    "\n",
    "        Args:\n",
    "            X: training data (n x d)\n",
    "            Y: training labels (n x 1)\n",
    "        \"\"\"\n",
    "        num_epochs = 3\n",
    "        X_size = X.shape[0]\n",
    "        self.alpha = np.zeros((X_size, self.num_classes))\n",
    "        self.X_training = X\n",
    "        Y = Y.astype(int)\n",
    "\n",
    "        # Instantiate once and reuse in update step\n",
    "        label_vector = -1 * np.ones(self.num_classes)\n",
    "        zeros = np.zeros(self.num_classes)\n",
    "\n",
    "        # Calculate gram matrix\n",
    "        self.gram_matrix = self.get_kernel_matrix(X, X)\n",
    "\n",
    "        for epoch in range(num_epochs):\n",
    "            for i in range(X_size):\n",
    "                # Get decisions for all the classifiers\n",
    "                decisions = np.sign(np.dot(self.alpha.T, self.gram_matrix[:, i]))\n",
    "\n",
    "                # The label vector should be -1 for every index\n",
    "                # except the one corresponding to the current Yi label\n",
    "                label_vector[Y[i]] = 1\n",
    "\n",
    "                # For a given classifier, if the decision * label <= 0,\n",
    "                # the update is the label, otherwise it is zero\n",
    "                update = np.where(decisions*label_vector <=0, label_vector, zeros)\n",
    "\n",
    "                # Add the update to alpha, reset label vector\n",
    "                self.alpha[i,:] += update\n",
    "                label_vector[Y[i]] = -1\n",
    "                \n",
    "    def predict(self, X):\n",
    "        \"\"\"\n",
    "        Predicts the labels of a new set of data\n",
    "\n",
    "        Args:\n",
    "            X: data to classify\n",
    "        \"\"\"\n",
    "        k_matrix = self.get_kernel_matrix(X, self.X_training)\n",
    "\n",
    "        # See how confident each classifier is that the training point is the given class\n",
    "        # This corresponds to distance from the classifier's decision boundary\n",
    "        data_confidence_by_classifier = np.array(\n",
    "            [ np.dot(self.alpha[:, classifier], k_matrix) \n",
    "                for classifier in range(self.num_classes)])\n",
    "        \n",
    "        # Pick the label of the classifier with the max confidence\n",
    "        predictions = np.array([np.argmax(data) for data in data_confidence_by_classifier.T])\n",
    "        return predictions\n",
    "    \n",
    "    def get_kernel_matrix(self, X1, X2):\n",
    "        \"\"\"\n",
    "        Calculates the full kernel matrix between X1 and X2\n",
    "        using the perceptron's kernel function\n",
    "\n",
    "        Args:\n",
    "            X1, X2: (ax1) and (bx1) vectors\n",
    "        Returns:\n",
    "            axb matrix of kernel distances\n",
    "        \"\"\"\n",
    "        return np.array([[\n",
    "            self.kernel(X1[i], X2[j])\n",
    "                for i in range(X1.shape[0])] \n",
    "                for j in range(X2.shape[0])])\n",
    "    \n",
    "###### HELPER FUNCTIONS #####\n",
    "def split_data(data, split_fraction):\n",
    "    \"\"\"\n",
    "    Splits the data into two sets with the specified fraction.\n",
    "\n",
    "    Args:\n",
    "        data: numpy matrix of data\n",
    "        split_fraction: fraction to split\n",
    "    Returns:\n",
    "        larger dataset, smaller dataset\n",
    "    \"\"\"\n",
    "    num_data = data.shape[0]\n",
    "    np.random.shuffle(data)\n",
    "    split_index = int(num_data - num_data * split_fraction)\n",
    "\n",
    "    return data[:split_index], data[split_index:]\n",
    "\n",
    "def get_polynomial_kernel(degree):\n",
    "    \"\"\"\n",
    "    Returns a polynomial kernel with specified degree\n",
    "\n",
    "    Args:\n",
    "        degree: degree of polynomial\n",
    "    Returns:\n",
    "        polynomial kernel function\n",
    "    \"\"\"\n",
    "\n",
    "    def polynomial_kernel(x1, x2):\n",
    "        return (np.dot(x1, x2)) ** degree\n",
    "    \n",
    "    return polynomial_kernel"
   ]
  },
  {
   "cell_type": "code",
   "execution_count": 157,
   "metadata": {},
   "outputs": [],
   "source": [
    "# Load data into numpy\n",
    "data = np.genfromtxt('./dtest123.dat')\n",
    "\n",
    "# Adjust data labels to start from 0\n",
    "data[:,0] -= 1\n",
    "training, validation = split_data(data, 0.8)\n",
    "\n",
    "degree = 3\n",
    "num_classes = len(np.unique(data[:,0]))\n",
    "kperceptron = MultiClassKernelPerceptron(get_polynomial_kernel(degree), num_classes)\n",
    "\n",
    "train_X = training[:,1:]\n",
    "train_Y = training[:,0]\n",
    "kperceptron.train(train_X, train_Y)"
   ]
  },
  {
   "cell_type": "code",
   "execution_count": 159,
   "metadata": {},
   "outputs": [
    {
     "name": "stdout",
     "output_type": "stream",
     "text": [
      "predictions: [1 0 0 1 0 1 2 0 1 0 1 0 1 2 2 0 0 2 0 2 2 2 1 0 1 0 1 2 2 0 0 1 2 0 2 1 0\n",
      " 0 2 2 0 0 1 1 0 2 0 0 1 1 0 2 2 1 0 0 1 1 2 0 0 1 0 1 1 0 0 2 0 0 2 0 2 2\n",
      " 0 2 2 1 1 0 1 1 1 1 2 1 1 2 0 1 0 1 2 2 2 0 1 0 1 2 1 0 2 1 2 2 0 0 1 1 0\n",
      " 1 1 0 1 0 1 2 2 1 0 0 1 0 0 0 1 2 2 1 0 2 2 1 0 0 1 0 1 2 0 2 1 0 0 2 1 2\n",
      " 0 0 0 1 0 2 0 2 0 0 2 0 0 2 0 0 0 1 0 1 0 0 0 2 2 0 0 0 2 1 1 0 2 2 0 2 0\n",
      " 2 2 2 0 1 2 1 0 2 0 2 2 0 0 2 1 1 0 0 2 0 2 1 1 0 1 1 2 2 1 1 2 0 0 1 0 0\n",
      " 2 2 0 1 0 2 0 2 0 1 2 2 1 1 2 2 0 0 0 0 1 0 1 2 2 1 0 1 2 1 1 2 1 2 1 2 2\n",
      " 0 0 1 2 0 2 2 0 1 0 0 1 2 2 2 0 2 1 0 2 0 1 1 2 0 1 2 2 2 0 1 0 1 2 0 2 2\n",
      " 2 0 0 0 0 0 2 2 0 0 2 0 0 1 2 1 1 0 0 2 1 2 1 1 2 0 2 1 0 0 1 0 2 2 0 2 0\n",
      " 0 0 2 0 0 2 1 0 0 0 2 1 0 2 1 0 0 2 2 0 1 2 0 0 2 0 0 0 2 0 2 2]\n",
      "Num correct 340\n",
      "Ratio 0.9315068493150684\n"
     ]
    }
   ],
   "source": [
    "valid_X = validation[:,1:]\n",
    "valid_Y = validation[:,0].astype(int)\n",
    "\n",
    "predictions = kperceptron.predict(valid_X)\n",
    "# print(\"predictions:\", predictions)\n",
    "\n",
    "num_correct = (predictions == valid_Y).sum()\n",
    "ratio = num_correct / valid_X.shape[0]\n",
    "print(\"Num correct\", num_correct)\n",
    "print(\"Ratio\", ratio)"
   ]
  },
  {
   "cell_type": "code",
   "execution_count": 137,
   "metadata": {},
   "outputs": [
    {
     "data": {
      "image/png": "[encoded data removed]",
      "text/plain": [
       "<Figure size 640x480 with 1 Axes>"
      ]
     },
     "metadata": {},
     "output_type": "display_data"
    }
   ],
   "source": [
    "def visualize_params(params):\n",
    "    plt.figure()\n",
    "    plt.imshow(np.reshape(params, (16,16)),\n",
    "                interpolation=\"None\",\n",
    "                cmap='gray',\n",
    "                vmin=0, \n",
    "                vmax=1)\n",
    "    plt.axis('off')\n",
    "    plt.show()\n",
    "\n",
    "visualize_params(data[6,1:])\n"
   ]
  },
  {
   "cell_type": "code",
   "execution_count": 138,
   "metadata": {},
   "outputs": [],
   "source": [
    "data1 = np.genfromtxt('./zipcombo.dat')\n"
   ]
  },
  {
   "cell_type": "code",
   "execution_count": 142,
   "metadata": {},
   "outputs": [
    {
     "data": {
      "text/plain": [
       "array([0., 1., 2., 3., 4., 5., 6., 7., 8., 9.])"
      ]
     },
     "execution_count": 142,
     "metadata": {},
     "output_type": "execute_result"
    }
   ],
   "source": [
    "data1.shape\n",
    "np.unique(data1[:,0])"
   ]
  }
 ],
 "metadata": {
  "kernelspec": {
   "display_name": "mv",
   "language": "python",
   "name": "python3"
  },
  "language_info": {
   "codemirror_mode": {
    "name": "ipython",
    "version": 3
   },
   "file_extension": ".py",
   "mimetype": "text/x-python",
   "name": "python",
   "nbconvert_exporter": "python",
   "pygments_lexer": "ipython3",
   "version": "3.9.6"
  },
  "orig_nbformat": 4
 },
 "nbformat": 4,
 "nbformat_minor": 2
}
